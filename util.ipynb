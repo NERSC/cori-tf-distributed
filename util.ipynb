{
 "cells": [
  {
   "cell_type": "code",
   "execution_count": 3,
   "metadata": {
    "collapsed": false
   },
   "outputs": [],
   "source": [
    "import tensorflow as tf\n",
    "import os"
   ]
  },
  {
   "cell_type": "code",
   "execution_count": 4,
   "metadata": {
    "collapsed": true
   },
   "outputs": [],
   "source": [
    "def weight_variable(shape):\n",
    "    #add a tesnor initialization to the com graph\n",
    "    initial = tf.truncated_normal(shape, stddev=0.1)\n",
    "    #make this tensor a variable and return it\n",
    "    return tf.Variable(initial)\n",
    "\n",
    "def bias_variable(shape):\n",
    "    #intiialize all biases at 0.1\n",
    "    initial = tf.constant(0.1,shape=shape)\n",
    "    return tf.Variable(initial)\n",
    "    \n",
    "def conv2d(x, W):\n",
    "    # add 2d conv op to the graph that convolves x with a filter W\n",
    "    return tf.nn.conv2d(x, W, strides=[1,1,1,1], padding='SAME')\n",
    "\n",
    "\n",
    "\n",
    "def max_pool_2x2(x):\n",
    "    return tf.nn.max_pool(x,ksize=[1,2,2,1], strides=[1,2,2,1], padding='SAME')"
   ]
  },
  {
   "cell_type": "code",
   "execution_count": null,
   "metadata": {
    "collapsed": true
   },
   "outputs": [],
   "source": [
    "def expand_nodelist(node_string):\n",
    "    pref, suff  = node_string.split('[')\n",
    "\n",
    "    suff = suff. split(']')[0].split(',')\n",
    "    nodes =[]\n",
    "    for s in suff:\n",
    "        if '-' not in s:\n",
    "            nodes.append(\"%s%s\" % (pref, s))\n",
    "            continue\n",
    "        beg,end = s.split('-')\n",
    "        num_len=len(beg)\n",
    "        for id in range(int(beg),int(end) + 1):\n",
    "            j= \"%s%0\" + str(num_len) + \"d\"\n",
    "            nodes.append(j % (pref, id))\n",
    "    return nodes\n",
    "\n",
    "if __name__ == \"__main__\":\n",
    "    node_string = \"nid22[8,11-99,101-120]\"\n",
    "    nodes = expand_nodelist(node_string)\n",
    "    print nodes"
   ]
  }
 ],
 "metadata": {
  "kernelspec": {
   "display_name": "Python 2",
   "language": "python",
   "name": "python2"
  },
  "language_info": {
   "codemirror_mode": {
    "name": "ipython",
    "version": 2
   },
   "file_extension": ".py",
   "mimetype": "text/x-python",
   "name": "python",
   "nbconvert_exporter": "python",
   "pygments_lexer": "ipython2",
   "version": "2.7.12"
  }
 },
 "nbformat": 4,
 "nbformat_minor": 0
}
