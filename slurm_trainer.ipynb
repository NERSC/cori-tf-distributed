{
 "cells": [
  {
   "cell_type": "code",
   "execution_count": 1,
   "metadata": {
    "collapsed": false,
    "deletable": true,
    "editable": true
   },
   "outputs": [],
   "source": [
    "import tensorflow as tf\n",
    "import sys"
   ]
  },
  {
   "cell_type": "code",
   "execution_count": 2,
   "metadata": {
    "collapsed": false,
    "deletable": true,
    "editable": true
   },
   "outputs": [
    {
     "name": "stdout",
     "output_type": "stream",
     "text": [
      "importing Jupyter notebook from model.ipynb\n",
      "importing Jupyter notebook from util.ipynb\n",
      "importing Jupyter notebook from get_data.ipynb\n",
      "importing Jupyter notebook from setup_clusters.ipynb\n"
     ]
    }
   ],
   "source": [
    "# from nbfinder import NotebookFinder\n",
    "# sys.meta_path.append(NotebookFinder())\n",
    "from model import make_model\n",
    "from get_data import load_tr_set\n",
    "from setup_clusters import setup_cluster\n",
    "import os\n",
    "import numpy as np\n",
    "import time"
   ]
  },
  {
   "cell_type": "code",
   "execution_count": 3,
   "metadata": {
    "collapsed": false,
    "deletable": true,
    "editable": true
   },
   "outputs": [],
   "source": [
    "def main(_):\n",
    "    batch_size = 128\n",
    "    cluster_type = sys.argv[1]\n",
    "    \n",
    "    cluster, server, task_index, n_tasks, job_name = setup_cluster(cluster_type)\n",
    "    \n",
    "    if job_name == \"ps\":\n",
    "        print \"time started: \", time.time()\n",
    "        server.join()\n",
    "    elif job_name == \"worker\":\n",
    "        # Assigns ops to the local worker by default.\n",
    "        with tf.device(tf.train.replica_device_setter(worker_device=\"/job:worker/task:%d\" % task_index,cluster=cluster)):\n",
    "            x = tf.placeholder(tf.float32, shape=[None, 28, 28,1])\n",
    "            y_ = tf.placeholder(tf.float32, shape=[None, 10])\n",
    "            # will put all variables on ps nodes\n",
    "            loss, accuracy = make_model(x, y_)\n",
    "            global_step = tf.Variable(0)\n",
    "            opt = tf.train.AdagradOptimizer(0.01)\n",
    "            train_op = opt.minimize(loss, global_step=global_step)\n",
    "            init_op = tf.initialize_all_variables()\n",
    "        is_chief=(task_index == 0)\n",
    "        # Create a \"supervisor\", which oversees the training process.\n",
    "        sv = tf.train.Supervisor(is_chief=is_chief,\n",
    "                                 logdir=\"./logs\",\n",
    "                                 init_op=init_op,\n",
    "                                 global_step=global_step)\n",
    "\n",
    "        # The supervisor takes care of session initialization, restoring from\n",
    "        # a checkpoint, and closing when done or an error occurs.\n",
    "        t = time.time()\n",
    "        with sv.managed_session(server.target) as sess:\n",
    "            ims,lbls = load_tr_set(task_index, n_tasks)\n",
    "            step = 0\n",
    "            num_ex = lbls.shape[0]\n",
    "            while not sv.should_stop() and step < 100:                \n",
    "                start = (step * batch_size) % num_ex\n",
    "                stop = (start + batch_size) % num_ex\n",
    "                slice_ = slice(start, stop)\n",
    "                batch = (ims[slice_], lbls[slice_])\n",
    "                if step%10 == 0:\n",
    "                    train_accuracy = sess.run(accuracy, feed_dict={x:batch[0], y_: batch[1]})\n",
    "                    print \"task %d step %d, training accuracy %g\"%(task_index, step, train_accuracy)\n",
    "                _, step = sess.run([train_op, global_step],feed_dict={x: batch[0], y_: batch[1]})\n",
    "     \n",
    "        time_end = time.time()\n",
    "        print \"time taken: \", time_end - t\n",
    "        sv.stop()\n",
    "\n",
    " "
   ]
  },
  {
   "cell_type": "code",
   "execution_count": 8,
   "metadata": {
    "collapsed": false,
    "deletable": true,
    "editable": true
   },
   "outputs": [],
   "source": [
    "if __name__ == \"__main__\":\n",
    "    tf.app.run()"
   ]
  },
  {
   "cell_type": "code",
   "execution_count": 9,
   "metadata": {
    "collapsed": false,
    "deletable": true,
    "editable": true
   },
   "outputs": [
    {
     "name": "stdout",
     "output_type": "stream",
     "text": [
      "[TerminalIPythonApp] WARNING | Subcommand `ipython nbconvert` is deprecated and will be removed in future versions.\n",
      "[TerminalIPythonApp] WARNING | You likely want to use `jupyter nbconvert` in the future\n",
      "[NbConvertApp] Converting notebook ./slurm_trainer.ipynb to script\n",
      "[NbConvertApp] Writing 2727 bytes to ./slurm_trainer.py\n"
     ]
    }
   ],
   "source": [
    "#! ipython nbconvert --to script ./slurm_trainer.ipynb"
   ]
  },
  {
   "cell_type": "code",
   "execution_count": null,
   "metadata": {
    "collapsed": true,
    "deletable": true,
    "editable": true
   },
   "outputs": [],
   "source": []
  }
 ],
 "metadata": {
  "kernelspec": {
   "display_name": "deeplearning",
   "language": "python",
   "name": "deeplearning"
  },
  "language_info": {
   "codemirror_mode": {
    "name": "ipython",
    "version": 2
   },
   "file_extension": ".py",
   "mimetype": "text/x-python",
   "name": "python",
   "nbconvert_exporter": "python",
   "pygments_lexer": "ipython2",
   "version": "2.7.12"
  }
 },
 "nbformat": 4,
 "nbformat_minor": 0
}
