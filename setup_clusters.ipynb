{
 "cells": [
  {
   "cell_type": "code",
   "execution_count": null,
   "metadata": {
    "collapsed": true
   },
   "outputs": [],
   "source": [
    "import tensorflow as tf"
   ]
  },
  {
   "cell_type": "code",
   "execution_count": null,
   "metadata": {
    "collapsed": true
   },
   "outputs": [],
   "source": [
    "import sys\n",
    "from nbfinder import NotebookFinder\n",
    "sys.meta_path.append(NotebookFinder())\n",
    "from util import expand_nodelist\n",
    "import os"
   ]
  },
  {
   "cell_type": "code",
   "execution_count": null,
   "metadata": {
    "collapsed": true
   },
   "outputs": [],
   "source": [
    "def setup_slurm_cluster():\n",
    "    tf_hostlist = [ (\"%s:22222\" % node) for node in\n",
    "                expand_nodelist( os.environ['SLURM_NODELIST']) ] \n",
    "    ps_hosts = [tf_hostlist[0]]\n",
    "    print ps_hosts\n",
    "    worker_hosts = tf_hostlist[1:]\n",
    "    print worker_hosts\n",
    "    task_index  = int( os.environ['SLURM_PROCID'] )\n",
    "    n_tasks     = int( os.environ['SLURM_NPROCS'] )\n",
    "    \n",
    "    cluster = tf.train.ClusterSpec({\n",
    "    \"worker\": worker_hosts,\n",
    "    \"ps\": ps_hosts\n",
    "    })\n",
    "\n",
    "    if task_index == 0:\n",
    "        job_name = \"ps\"\n",
    "    else:\n",
    "        job_name = \"worker\"\n",
    "        #expects a task_index for worker\n",
    "        task_index -= 1\n",
    "    # Create and start a server for the local task.\n",
    "    server = tf.train.Server(cluster,\n",
    "                           job_name=job_name,\n",
    "                           task_index=task_index)\n",
    "    return cluster, server, task_index, n_tasks, job_name\n",
    "    \n",
    "\n",
    "def setup_local_cluster():\n",
    "    port_list = range(8997,8999)\n",
    "    tf_hostlist = [ (os.environ[\"HOSTNAME\"] + \":%i\" % port) for port in\n",
    "                port_list]\n",
    "    \n",
    "    ps_hosts = [tf_hostlist[0]]\n",
    "    print ps_hosts\n",
    "    worker_hosts = tf_hostlist[1:]\n",
    "    print worker_hosts\n",
    "    job_name = sys.argv[2]\n",
    "    task_index  = int(sys.argv[3])\n",
    "    n_tasks     = len(port_list)\n",
    "    \n",
    "    cluster = tf.train.ClusterSpec({\n",
    "    \"worker\": worker_hosts,\n",
    "    \"ps\": ps_hosts\n",
    "    })\n",
    "    \n",
    "    # Create and start a server for the local task.\n",
    "    server = tf.train.Server(cluster,\n",
    "                           job_name=job_name,\n",
    "                           task_index=task_index)\n",
    "    \n",
    "\n",
    "    return cluster, server, task_index, n_tasks, job_name\n",
    "\n",
    "def setup_cluster(typ_):\n",
    "    if typ_ == \"slurm\":\n",
    "        return setup_slurm_cluster()\n",
    "    else:\n",
    "        return setup_local_cluster()"
   ]
  }
 ],
 "metadata": {
  "kernelspec": {
   "display_name": "Python 2",
   "language": "python",
   "name": "python2"
  },
  "language_info": {
   "codemirror_mode": {
    "name": "ipython",
    "version": 2
   },
   "file_extension": ".py",
   "mimetype": "text/x-python",
   "name": "python",
   "nbconvert_exporter": "python",
   "pygments_lexer": "ipython2",
   "version": "2.7.12"
  }
 },
 "nbformat": 4,
 "nbformat_minor": 0
}
